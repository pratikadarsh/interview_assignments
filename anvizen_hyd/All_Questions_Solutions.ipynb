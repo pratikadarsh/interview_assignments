{
 "cells": [
  {
   "cell_type": "raw",
   "id": "geographic-english",
   "metadata": {},
   "source": [
    "Given a list lst and a number N, create a new list\n",
    "that contains each number of the list at most N times without reordering.\n",
    "\n",
    "For example if N = 2, and the input is [1,2,3,1,2,1,2,3], you take [1,2,3,1,2], \n",
    "drop the next [1,2] since this would lead to 1 and 2 being in the result 3 times, and then take 3, \n",
    "which leads to [1,2,3,1,2,3]"
   ]
  },
  {
   "cell_type": "code",
   "execution_count": 15,
   "id": "downtown-overhead",
   "metadata": {},
   "outputs": [],
   "source": [
    "def answer_1(original_list, max_occurence):\n",
    "    occurence_counter = dict()\n",
    "    ret_list = list()\n",
    "    for element in original_list:\n",
    "        if element in occurence_counter:\n",
    "            if occurence_counter[element] == max_occurence:\n",
    "                continue\n",
    "            else:\n",
    "                occurence_counter[element] += 1\n",
    "        else:\n",
    "            occurence_counter[element] = 1\n",
    "        ret_list.append(element)\n",
    "    return ret_list\n",
    "\n",
    "a = [1,2,3,1,2,1,2,3]\n",
    "assert (answer_1(a, 2) == [1,2,3,1,2,3]), \"Answer mismatch\"\n",
    "\n",
    "b = [5,5,5,1,2,9,9,9,9,5,2,1,2,1,2,1]\n",
    "assert (answer_1(b, 3) == [5,5,5,1,2,9,9,9,2,1,2,1]), \"Answer mismatch\"\n"
   ]
  },
  {
   "cell_type": "raw",
   "id": "right-surname",
   "metadata": {},
   "source": [
    "Implement Flatten Arrays.\n",
    "Given an array that may contain nested arrays,\n",
    "produce a single resultant array.\n",
    "\n",
    "example: \n",
    "Input: [1,2,[10,20,['a','b'],30],100]\n",
    "Output: [1,2,10,20,'a','b',30,100]"
   ]
  },
  {
   "cell_type": "code",
   "execution_count": 17,
   "id": "administrative-lindsay",
   "metadata": {},
   "outputs": [],
   "source": [
    "def answer_2(nested_array):\n",
    "    flattened_array = list()\n",
    "    for element in nested_array:\n",
    "        if isinstance(element, list):\n",
    "            flat = answer_2(element)\n",
    "            flattened_array = [*flattened_array, *flat]\n",
    "        else:\n",
    "            flattened_array.append(element)\n",
    "    return flattened_array\n",
    "\n",
    "a = [1,2,[10,20,['a','b'],30],100]\n",
    "assert (answer_2(a) == [1,2,10,20,'a','b',30,100]), \"Answer mismatch\"\n",
    "\n",
    "b = [1,[2,[3,[4,[5,[6,[7,[8,[9,[10]]]]]]]]]]\n",
    "assert (answer_2(b) == [1,2,3,4,5,6,7,8,9,10]), \"Answer mismatch\""
   ]
  },
  {
   "cell_type": "raw",
   "id": "swiss-course",
   "metadata": {},
   "source": [
    "Given a string, find the length of the longest substring\n",
    "without repeating characters.\n",
    "\n",
    "Examples:\n",
    "Given \"abcabcbb\", the answer is \"abc\", which the length is 3.\n",
    "Given \"bbbbb\", the answer is \"b\", with the length of 1.\n",
    "Given \"pwwkew\", the answer is \"wke\", with the length of 3.\n",
    "Note that the answer must be a substring,\n",
    "\"pwke\" is a subsequence and not a substring."
   ]
  },
  {
   "cell_type": "code",
   "execution_count": 22,
   "id": "loved-sending",
   "metadata": {},
   "outputs": [],
   "source": [
    "def answer_3_naive(strng):\n",
    "    longest = ''\n",
    "    substring = ''\n",
    "    for i in range(len(strng)):\n",
    "        substring = ''\n",
    "        substring += strng[i]\n",
    "        for j in range(i + 1, len(strng)):\n",
    "            if strng[j] in substring:\n",
    "                if len(substring) > len(longest):\n",
    "                    longest = substring\n",
    "                break\n",
    "            else:\n",
    "                substring += strng[j]\n",
    "    return longest\n",
    "                \n",
    "            \n",
    "\n",
    "assert (answer_3_naive('abcabcbb') == 'abc'), \"Answer mismatch\"\n",
    "assert (answer_3_naive('bbbbb') == 'b'), \"Answer mismatch\"\n",
    "assert (answer_3_naive('pwwkew') == 'wke'), \"Answer mismatch\""
   ]
  },
  {
   "cell_type": "raw",
   "id": "personalized-strengthening",
   "metadata": {},
   "source": [
    "Rotate an array of n elements to the right by k steps.\n",
    "\n",
    "For example, with n = 7 and k = 3,\n",
    "the array [1,2,3,4,5,6,7] is rotated to [5,6,7,1,2,3,4]"
   ]
  },
  {
   "cell_type": "code",
   "execution_count": 24,
   "id": "blessed-mandate",
   "metadata": {},
   "outputs": [],
   "source": [
    "def answer_4(arr, k):\n",
    "    assert (len(arr) >= k), \"array length needs to be greater than rotation steps.\"\n",
    "    return [*arr[-k:], *arr[:-k]]\n",
    "\n",
    "assert (answer_4([1,2,3,4,5,6,7], 3) == [5,6,7,1,2,3,4])"
   ]
  },
  {
   "cell_type": "raw",
   "id": "independent-young",
   "metadata": {},
   "source": [
    "Given an array of integers, return indices of the two numbers\n",
    "such that they add up to a specific target.\n",
    "\n",
    "You may assume that each input would have exactly one solution,\n",
    "and you may not use the same element twice.\n",
    "\n",
    "Example:\n",
    "    Given nums = [2, 7, 11, 15], target = 9,\n",
    "\n",
    "    Because nums[0] + nums[1] = 2 + 7 = 9,\n",
    "    return (0, 1)"
   ]
  },
  {
   "cell_type": "code",
   "execution_count": 26,
   "id": "theoretical-organic",
   "metadata": {},
   "outputs": [],
   "source": [
    "def answer_5_naive(arr, target):\n",
    "    found = 0\n",
    "    for i in range(len(arr)):\n",
    "        for j in range(i+1, len(arr)):\n",
    "            if arr[i]+arr[j]==target:\n",
    "                found = 1\n",
    "                return (i,j)\n",
    "    if found == 0:\n",
    "        return (-1, -1)\n",
    "\n",
    "assert (answer_5_naive([2,7,11,15], 9) == (0,1)), \"Answer mismatch\""
   ]
  },
  {
   "cell_type": "raw",
   "id": "naval-wholesale",
   "metadata": {},
   "source": [
    "Write an algorithm that takes an array and moves all of the zeros to the end,\n",
    "preserving the order of the other elements.\n",
    "    move_zeros([false, 1, 0, 1, 2, 0, 1, 3, \"a\"])\n",
    "    returns => [false, 1, 1, 2, 1, 3, \"a\", 0, 0]"
   ]
  },
  {
   "cell_type": "code",
   "execution_count": 34,
   "id": "other-accountability",
   "metadata": {},
   "outputs": [
    {
     "name": "stderr",
     "output_type": "stream",
     "text": [
      "<>:4: SyntaxWarning: \"is\" with a literal. Did you mean \"==\"?\n",
      "<>:4: SyntaxWarning: \"is\" with a literal. Did you mean \"==\"?\n",
      "<ipython-input-34-a7eda6849bbb>:4: SyntaxWarning: \"is\" with a literal. Did you mean \"==\"?\n",
      "  if element is 0:\n"
     ]
    }
   ],
   "source": [
    "def answer_6(arr):\n",
    "    zeros, non_zeros = [], []\n",
    "    for element in arr:\n",
    "        if element is 0:\n",
    "            zeros.append(element)\n",
    "        else:\n",
    "            non_zeros.append(element)\n",
    "    return [*non_zeros, *zeros]\n",
    "\n",
    "assert (answer_6([False, 1,0,1,2,0,1,3,'a']) == [False, 1, 1, 2, 1, 3, 'a', 0, 0]), \"Answer mismatch\""
   ]
  },
  {
   "cell_type": "raw",
   "id": "gorgeous-approach",
   "metadata": {},
   "source": [
    "Write a program to read image files from a folder and classify them into different folders based on the names of the files.\n",
    "\n",
    "Input: Take a folder with 10 files having 4 different extensions (files of any extension). \n",
    "\n",
    "Output: 4 folders having all files of one extension into one folder."
   ]
  },
  {
   "cell_type": "code",
   "execution_count": 41,
   "id": "identified-edition",
   "metadata": {},
   "outputs": [
    {
     "name": "stdout",
     "output_type": "stream",
     "text": [
      "./files\n"
     ]
    }
   ],
   "source": [
    "import os \n",
    "\n",
    "def answer_7(folder_path):\n",
    "    all_files = os.listdir(folder_path)\n",
    "    print(folder_path)\n",
    "    ext_dirs = list()\n",
    "    for file in all_files:\n",
    "        ext = os.path.splitext(file)[1][1:]\n",
    "        if ext not in ext_dirs:\n",
    "            os.mkdir(ext)\n",
    "            ext_dirs.append(ext)\n",
    "        os.rename(os.path.join(folder_path, file), os.path.join(ext, file))\n",
    "\n",
    "folder = './files'\n",
    "answer_7(folder)"
   ]
  },
  {
   "cell_type": "raw",
   "id": "reliable-horse",
   "metadata": {},
   "source": [
    "Write a program to read video from camera and display it in an opencv window named \"OUTPUT\""
   ]
  },
  {
   "cell_type": "code",
   "execution_count": 45,
   "id": "clinical-preference",
   "metadata": {},
   "outputs": [],
   "source": [
    "import cv2\n",
    "\n",
    "def answer_8():\n",
    "    capture = cv2.VideoCapture(0)\n",
    "    while(True):     \n",
    "        ret, frame = capture.read()     \n",
    "        cv2.imshow('OUTPUT', frame)     \n",
    "        if cv2.waitKey(1) == 27:\n",
    "            break\n",
    "    capture.release()\n",
    "    cv2.destroyAllWindows()\n",
    "\n",
    "answer_8()"
   ]
  },
  {
   "cell_type": "raw",
   "id": "valid-regulation",
   "metadata": {},
   "source": [
    "There are people sitting in a circular fashion,\n",
    "print every third member while removing them,\n",
    "the next counter starts immediately after the member is removed.\n",
    "Print till all the members are exhausted.\n",
    "\n",
    "For example:\n",
    "Input: consider 123456789 members sitting in a circular fashion,\n",
    "Output: 369485271"
   ]
  },
  {
   "cell_type": "code",
   "execution_count": 50,
   "id": "piano-garbage",
   "metadata": {},
   "outputs": [],
   "source": [
    "def answer_9(circular_list):\n",
    "    index = 0\n",
    "    count = 1\n",
    "    finished = [-1] * len(circular_list)\n",
    "    ret_list = []\n",
    "    while circular_list != finished:\n",
    "        if index == len(circular_list):\n",
    "            index = 0\n",
    "            continue\n",
    "        if circular_list[index] == -1:\n",
    "            index += 1\n",
    "            continue\n",
    "        if count % 3 ==0:\n",
    "            count = 1\n",
    "            ret_list.append(circular_list[index])\n",
    "            circular_list[index] = -1\n",
    "            index += 1\n",
    "            continue\n",
    "        count += 1\n",
    "        index += 1\n",
    "    return ret_list\n",
    "\n",
    "assert (answer_9([1,2,3,4,5,6,7,8,9]) == [3, 6, 9, 4, 8, 5, 2, 7, 1]), \"Answer mismatch\""
   ]
  },
  {
   "cell_type": "raw",
   "id": "seventh-technical",
   "metadata": {},
   "source": [
    "Given an array S of n integers, are there three distinct elements\n",
    "a, b, c in S such that a + b + c = 0?\n",
    "Find all unique triplets in the array which gives the sum of zero.\n",
    "\n",
    "Note: The solution set must not contain duplicate triplets.\n",
    "\n",
    "For example, given array S = [-1, 0, 1, 2, -1, -4],\n",
    "\n",
    "A solution set is:\n",
    "{\n",
    "  (-1, 0, 1),\n",
    "  (-1, -1, 2)\n",
    "}"
   ]
  },
  {
   "cell_type": "code",
   "execution_count": 78,
   "id": "moving-musical",
   "metadata": {},
   "outputs": [
    {
     "name": "stdout",
     "output_type": "stream",
     "text": [
      "0 -1 1\n",
      "2 -1 -1\n",
      "1 0 -1\n"
     ]
    }
   ],
   "source": [
    "def answer_10(arr):\n",
    "    ret = list()\n",
    "    for i in range(len(arr)):\n",
    "        mset = set()\n",
    "        for j in range(i+1, len(arr)):\n",
    "            if  (0 - (arr[i] + arr[j])) in mset:\n",
    "                print((0 - (arr[i] + arr[j])), arr[i], arr[j])\n",
    "            else:\n",
    "                mset.add(arr[j])\n",
    "\n",
    "answer_10([-1,0,1,2,-1,-4])\n",
    "            "
   ]
  },
  {
   "cell_type": "code",
   "execution_count": 73,
   "id": "prostate-aerospace",
   "metadata": {},
   "outputs": [
    {
     "data": {
      "text/plain": [
       "True"
      ]
     },
     "execution_count": 73,
     "metadata": {},
     "output_type": "execute_result"
    }
   ],
   "source": []
  },
  {
   "cell_type": "code",
   "execution_count": null,
   "id": "alien-webster",
   "metadata": {},
   "outputs": [],
   "source": []
  }
 ],
 "metadata": {
  "kernelspec": {
   "display_name": "Python 3",
   "language": "python",
   "name": "python3"
  },
  "language_info": {
   "codemirror_mode": {
    "name": "ipython",
    "version": 3
   },
   "file_extension": ".py",
   "mimetype": "text/x-python",
   "name": "python",
   "nbconvert_exporter": "python",
   "pygments_lexer": "ipython3",
   "version": "3.8.5"
  }
 },
 "nbformat": 4,
 "nbformat_minor": 5
}
